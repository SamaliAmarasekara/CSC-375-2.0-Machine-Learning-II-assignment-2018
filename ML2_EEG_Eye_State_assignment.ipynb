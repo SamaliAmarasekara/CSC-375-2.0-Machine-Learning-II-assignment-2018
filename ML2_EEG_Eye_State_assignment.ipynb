{
 "cells": [
  {
   "cell_type": "markdown",
   "metadata": {},
   "source": [
    "MACHINE LEARNING II ASSIGNMENT - AS2015307 "
   ]
  },
  {
   "cell_type": "code",
   "execution_count": 33,
   "metadata": {},
   "outputs": [],
   "source": [
    "import tensorflow\n",
    "import keras\n",
    "import numpy as np\n",
    "import pandas as pd\n",
    "import scipy\n",
    "import sklearn"
   ]
  },
  {
   "cell_type": "code",
   "execution_count": 34,
   "metadata": {},
   "outputs": [],
   "source": [
    "from scipy.io import arff\n",
    "from numpy import array\n",
    "from sklearn import preprocessing\n",
    "from sklearn.preprocessing import MinMaxScaler\n",
    "le = preprocessing.LabelEncoder()"
   ]
  },
  {
   "cell_type": "code",
   "execution_count": 35,
   "metadata": {},
   "outputs": [
    {
     "data": {
      "text/html": [
       "<div>\n",
       "<style scoped>\n",
       "    .dataframe tbody tr th:only-of-type {\n",
       "        vertical-align: middle;\n",
       "    }\n",
       "\n",
       "    .dataframe tbody tr th {\n",
       "        vertical-align: top;\n",
       "    }\n",
       "\n",
       "    .dataframe thead th {\n",
       "        text-align: right;\n",
       "    }\n",
       "</style>\n",
       "<table border=\"1\" class=\"dataframe\">\n",
       "  <thead>\n",
       "    <tr style=\"text-align: right;\">\n",
       "      <th></th>\n",
       "      <th>AF3</th>\n",
       "      <th>F7</th>\n",
       "      <th>F3</th>\n",
       "      <th>FC5</th>\n",
       "      <th>T7</th>\n",
       "      <th>P7</th>\n",
       "      <th>O1</th>\n",
       "      <th>O2</th>\n",
       "      <th>P8</th>\n",
       "      <th>T8</th>\n",
       "      <th>FC6</th>\n",
       "      <th>F4</th>\n",
       "      <th>F8</th>\n",
       "      <th>AF4</th>\n",
       "      <th>eyeDetection</th>\n",
       "    </tr>\n",
       "  </thead>\n",
       "  <tbody>\n",
       "    <tr>\n",
       "      <th>0</th>\n",
       "      <td>4329.23</td>\n",
       "      <td>4009.23</td>\n",
       "      <td>4289.23</td>\n",
       "      <td>4148.21</td>\n",
       "      <td>4350.26</td>\n",
       "      <td>4586.15</td>\n",
       "      <td>4096.92</td>\n",
       "      <td>4641.03</td>\n",
       "      <td>4222.05</td>\n",
       "      <td>4238.46</td>\n",
       "      <td>4211.28</td>\n",
       "      <td>4280.51</td>\n",
       "      <td>4635.90</td>\n",
       "      <td>4393.85</td>\n",
       "      <td>b'0'</td>\n",
       "    </tr>\n",
       "    <tr>\n",
       "      <th>1</th>\n",
       "      <td>4324.62</td>\n",
       "      <td>4004.62</td>\n",
       "      <td>4293.85</td>\n",
       "      <td>4148.72</td>\n",
       "      <td>4342.05</td>\n",
       "      <td>4586.67</td>\n",
       "      <td>4097.44</td>\n",
       "      <td>4638.97</td>\n",
       "      <td>4210.77</td>\n",
       "      <td>4226.67</td>\n",
       "      <td>4207.69</td>\n",
       "      <td>4279.49</td>\n",
       "      <td>4632.82</td>\n",
       "      <td>4384.10</td>\n",
       "      <td>b'0'</td>\n",
       "    </tr>\n",
       "    <tr>\n",
       "      <th>2</th>\n",
       "      <td>4327.69</td>\n",
       "      <td>4006.67</td>\n",
       "      <td>4295.38</td>\n",
       "      <td>4156.41</td>\n",
       "      <td>4336.92</td>\n",
       "      <td>4583.59</td>\n",
       "      <td>4096.92</td>\n",
       "      <td>4630.26</td>\n",
       "      <td>4207.69</td>\n",
       "      <td>4222.05</td>\n",
       "      <td>4206.67</td>\n",
       "      <td>4282.05</td>\n",
       "      <td>4628.72</td>\n",
       "      <td>4389.23</td>\n",
       "      <td>b'0'</td>\n",
       "    </tr>\n",
       "    <tr>\n",
       "      <th>3</th>\n",
       "      <td>4328.72</td>\n",
       "      <td>4011.79</td>\n",
       "      <td>4296.41</td>\n",
       "      <td>4155.90</td>\n",
       "      <td>4343.59</td>\n",
       "      <td>4582.56</td>\n",
       "      <td>4097.44</td>\n",
       "      <td>4630.77</td>\n",
       "      <td>4217.44</td>\n",
       "      <td>4235.38</td>\n",
       "      <td>4210.77</td>\n",
       "      <td>4287.69</td>\n",
       "      <td>4632.31</td>\n",
       "      <td>4396.41</td>\n",
       "      <td>b'0'</td>\n",
       "    </tr>\n",
       "    <tr>\n",
       "      <th>4</th>\n",
       "      <td>4326.15</td>\n",
       "      <td>4011.79</td>\n",
       "      <td>4292.31</td>\n",
       "      <td>4151.28</td>\n",
       "      <td>4347.69</td>\n",
       "      <td>4586.67</td>\n",
       "      <td>4095.90</td>\n",
       "      <td>4627.69</td>\n",
       "      <td>4210.77</td>\n",
       "      <td>4244.10</td>\n",
       "      <td>4212.82</td>\n",
       "      <td>4288.21</td>\n",
       "      <td>4632.82</td>\n",
       "      <td>4398.46</td>\n",
       "      <td>b'0'</td>\n",
       "    </tr>\n",
       "  </tbody>\n",
       "</table>\n",
       "</div>"
      ],
      "text/plain": [
       "       AF3       F7       F3      FC5       T7       P7       O1       O2  \\\n",
       "0  4329.23  4009.23  4289.23  4148.21  4350.26  4586.15  4096.92  4641.03   \n",
       "1  4324.62  4004.62  4293.85  4148.72  4342.05  4586.67  4097.44  4638.97   \n",
       "2  4327.69  4006.67  4295.38  4156.41  4336.92  4583.59  4096.92  4630.26   \n",
       "3  4328.72  4011.79  4296.41  4155.90  4343.59  4582.56  4097.44  4630.77   \n",
       "4  4326.15  4011.79  4292.31  4151.28  4347.69  4586.67  4095.90  4627.69   \n",
       "\n",
       "        P8       T8      FC6       F4       F8      AF4 eyeDetection  \n",
       "0  4222.05  4238.46  4211.28  4280.51  4635.90  4393.85         b'0'  \n",
       "1  4210.77  4226.67  4207.69  4279.49  4632.82  4384.10         b'0'  \n",
       "2  4207.69  4222.05  4206.67  4282.05  4628.72  4389.23         b'0'  \n",
       "3  4217.44  4235.38  4210.77  4287.69  4632.31  4396.41         b'0'  \n",
       "4  4210.77  4244.10  4212.82  4288.21  4632.82  4398.46         b'0'  "
      ]
     },
     "execution_count": 35,
     "metadata": {},
     "output_type": "execute_result"
    }
   ],
   "source": [
    "data = arff.loadarff('EEG_Eye_State.arff')\n",
    "df = pd.DataFrame(data[0])\n",
    "df.head()"
   ]
  },
  {
   "cell_type": "markdown",
   "metadata": {},
   "source": [
    "\n",
    "### 1.PREPROCESSING"
   ]
  },
  {
   "cell_type": "code",
   "execution_count": 36,
   "metadata": {},
   "outputs": [],
   "source": [
    "X = df.iloc[:,0:14] #assign attributes\n",
    "Y = df.iloc[:,14:15] #eye detection\n",
    "X = X.dropna()\n",
    "Y = Y.dropna()\n"
   ]
  },
  {
   "cell_type": "markdown",
   "metadata": {},
   "source": [
    "Label Encording Y"
   ]
  },
  {
   "cell_type": "code",
   "execution_count": 68,
   "metadata": {},
   "outputs": [],
   "source": [
    "#converting Y to an array\n",
    "Yarray = np.array(Y, dtype = object)"
   ]
  },
  {
   "cell_type": "code",
   "execution_count": 69,
   "metadata": {},
   "outputs": [
    {
     "data": {
      "text/plain": [
       "LabelEncoder()"
      ]
     },
     "execution_count": 69,
     "metadata": {},
     "output_type": "execute_result"
    }
   ],
   "source": [
    "#fit labels \n",
    "\n",
    "le.fit([ b'0', b'1'])"
   ]
  },
  {
   "cell_type": "code",
   "execution_count": 70,
   "metadata": {},
   "outputs": [],
   "source": [
    "labeledY=le.transform(Yarray)"
   ]
  },
  {
   "cell_type": "code",
   "execution_count": 71,
   "metadata": {},
   "outputs": [
    {
     "data": {
      "text/plain": [
       "array([0, 0, 0, ..., 1, 1, 1])"
      ]
     },
     "execution_count": 71,
     "metadata": {},
     "output_type": "execute_result"
    }
   ],
   "source": [
    "labeledY"
   ]
  },
  {
   "cell_type": "code",
   "execution_count": 41,
   "metadata": {},
   "outputs": [
    {
     "data": {
      "text/plain": [
       "array([[0, 0, 0, ..., 1, 1, 1]])"
      ]
     },
     "execution_count": 41,
     "metadata": {},
     "output_type": "execute_result"
    }
   ],
   "source": [
    "#reshape Y\n",
    "Y_reshaped=labeledY.reshape(1, -1)\n",
    "Y_reshaped"
   ]
  },
  {
   "cell_type": "markdown",
   "metadata": {},
   "source": [
    "Scalling data"
   ]
  },
  {
   "cell_type": "code",
   "execution_count": 42,
   "metadata": {},
   "outputs": [],
   "source": [
    "minmax_scaler = preprocessing.MinMaxScaler(feature_range=(0,1))\n",
    "data_minmaxX = minmax_scaler.fit_transform(X)"
   ]
  },
  {
   "cell_type": "code",
   "execution_count": 43,
   "metadata": {},
   "outputs": [
    {
     "data": {
      "text/plain": [
       "array([[0.01070233, 0.23693115, 0.55632642, ..., 0.42628583, 0.02988565,\n",
       "        0.00423733],\n",
       "       [0.01068737, 0.2360043 , 0.55711744, ..., 0.42607085, 0.02986542,\n",
       "        0.00422368],\n",
       "       [0.01069733, 0.23641646, 0.55737941, ..., 0.42661041, 0.02983848,\n",
       "        0.00423086],\n",
       "       ...,\n",
       "       [0.01053429, 0.23321974, 0.54903938, ..., 0.42153096, 0.02959587,\n",
       "        0.00416125],\n",
       "       [0.01055758, 0.23342481, 0.5498287 , ..., 0.42347632, 0.02962622,\n",
       "        0.00417703],\n",
       "       [0.01056755, 0.23456075, 0.55132172, ..., 0.42498962, 0.02963634,\n",
       "        0.00417703]])"
      ]
     },
     "execution_count": 43,
     "metadata": {},
     "output_type": "execute_result"
    }
   ],
   "source": [
    "#print scalled data\n",
    "data_minmaxX"
   ]
  },
  {
   "cell_type": "markdown",
   "metadata": {},
   "source": [
    "1.2 Normalizing"
   ]
  },
  {
   "cell_type": "code",
   "execution_count": 44,
   "metadata": {},
   "outputs": [
    {
     "data": {
      "text/plain": [
       "array([[0.00412865, 0.09140126, 0.21461481, ..., 0.16444887, 0.01152903,\n",
       "        0.00163464],\n",
       "       [0.00413327, 0.09127306, 0.21546138, ..., 0.16478   , 0.01155025,\n",
       "        0.00163348],\n",
       "       [0.00414424, 0.09158984, 0.21593375, ..., 0.16527267, 0.01155969,\n",
       "        0.00163907],\n",
       "       ...,\n",
       "       [0.00413776, 0.09160638, 0.21565718, ..., 0.16557315, 0.01162496,\n",
       "        0.0016345 ],\n",
       "       [0.00413372, 0.09139529, 0.21528025, ..., 0.16580817, 0.01159987,\n",
       "        0.00163548],\n",
       "       [0.00412221, 0.09149796, 0.21506076, ..., 0.16578086, 0.01156061,\n",
       "        0.00162939]])"
      ]
     },
     "execution_count": 44,
     "metadata": {},
     "output_type": "execute_result"
    }
   ],
   "source": [
    "#data normalizing using L1 - Least Absolute Deviations - sum of absolute values (on each row) = 1; it is insensitive to outliers\n",
    "X  =  preprocessing .normalize(data_minmaxX, norm='l1')\n",
    "X\n"
   ]
  },
  {
   "cell_type": "markdown",
   "metadata": {},
   "source": [
    "### 2.Data preparation for LSTM model 1"
   ]
  },
  {
   "cell_type": "markdown",
   "metadata": {},
   "source": [
    "Splitting and making 3D data set"
   ]
  },
  {
   "cell_type": "code",
   "execution_count": 45,
   "metadata": {},
   "outputs": [],
   "source": [
    "dataXeeg = [[X[i+j] for i in range (10)] for j in range(14900)]  #eeg data seperation for in batches of 10\n",
    "targetYeeg = [[labeledY[i] for i in range(1)]for i in range (14900)] \n",
    "dataXeye = [[Yarray[i] for i in range (10)] for j in range(14900)]  #eye data seperation for in batches of 10\n",
    "targetYeye = [[labeledY[i] for i in range(1)]for i in range (14900)]"
   ]
  },
  {
   "cell_type": "code",
   "execution_count": 46,
   "metadata": {},
   "outputs": [],
   "source": [
    "#convert all above data into array\n",
    "DataXeeg = np.array(dataXeeg, dtype = float)\n",
    "TargetYeeg = np.array(targetYeeg, dtype = int)\n",
    "DataXeye = np.array(dataXeye, dtype=int)\n",
    "TargetYeye = np.array(targetYeye, dtype=int)"
   ]
  },
  {
   "cell_type": "code",
   "execution_count": 47,
   "metadata": {},
   "outputs": [
    {
     "data": {
      "text/plain": [
       "((14900, 10, 1), (14900, 10, 14), (14900, 1), (14900, 1))"
      ]
     },
     "execution_count": 47,
     "metadata": {},
     "output_type": "execute_result"
    }
   ],
   "source": [
    "DataXeye.shape,DataXeeg.shape,TargetYeye.shape,TargetYeeg.shape #inputs were converted to 3d data"
   ]
  },
  {
   "cell_type": "code",
   "execution_count": 48,
   "metadata": {},
   "outputs": [
    {
     "name": "stdout",
     "output_type": "stream",
     "text": [
      "data format of train test and validaton data set of eeg data\n",
      "EYE status data X (10728, 10, 14) (2980, 10, 14) (1192, 10, 14)\n",
      "EYE status data Y (10728, 1) (2980, 1) (1192, 1)\n",
      "\n",
      "data format of train test and validaton data set of eye data\n",
      "EEG data X (10728, 10, 1) (2980, 10, 1) (1192, 10, 1)\n",
      "EEG data Y (10728, 1) (2980, 1) (1192, 1)\n"
     ]
    }
   ],
   "source": [
    "from sklearn.model_selection import train_test_split\n",
    "#split eye state to train and test\n",
    "eeX_train, eeX_test, eeY_train,eeY_test = train_test_split(DataXeeg, TargetYeeg, test_size=0.20, shuffle=False)\n",
    "#split eeg to train and test\n",
    "eyX_train, eyX_test, eyY_train,eyY_test = train_test_split(DataXeye, TargetYeye, test_size=0.20, shuffle=False)\n",
    "#split eye train to train and validate\n",
    "eeX_train, eeX_valid,eeY_train, eeY_valid = train_test_split(eeX_train, eeY_train, test_size=0.10)\n",
    "#split eeg to train and validate\n",
    "eyX_train, eyX_valid,eyY_train, eyY_valid = train_test_split(eyX_train, eyY_train, test_size=0.10)\n",
    "\n",
    "print(\"data format of train test and validaton data set of eeg data\")\n",
    "print(\"EYE status data X\",eeX_train.shape, eeX_test.shape, eeX_valid.shape)\n",
    "print(\"EYE status data Y\",eeY_train.shape, eeY_test.shape, eeY_valid.shape)\n",
    "print(\"\\ndata format of train test and validaton data set of eye data\")\n",
    "print(\"EEG data X\",eyX_train.shape, eyX_test.shape, eyX_valid.shape)\n",
    "print(\"EEG data Y\",eyY_train.shape, eyY_test.shape, eyY_valid.shape)\n",
    "\n"
   ]
  },
  {
   "cell_type": "markdown",
   "metadata": {},
   "source": [
    "### 3.Bulding Algorithm and \"LSTM MODEL1\""
   ]
  },
  {
   "cell_type": "code",
   "execution_count": 49,
   "metadata": {},
   "outputs": [],
   "source": [
    "from keras.models import Sequential\n",
    "from keras.layers import Dense, Input, LSTM, concatenate, Dropout\n",
    "from keras import layers\n",
    "from numpy import array\n",
    "from keras.models import load_model, Model\n",
    "from keras.layers import Dense, Activation\n",
    "from keras.callbacks import EarlyStopping, ModelCheckpoint, ReduceLROnPlateau\n"
   ]
  },
  {
   "cell_type": "code",
   "execution_count": 50,
   "metadata": {},
   "outputs": [],
   "source": [
    "eyeInput = Input(shape=(10,1),name='eyeInput')\n",
    "eyeLSTM = LSTM(15,return_sequences=True)(eyeInput)\n",
    "eyeDrop = Dropout(0.6)(eyeLSTM)\n",
    "eyeLSTM_2 = LSTM(30)(eyeDrop)\n",
    "eyeDrop_2 = Dropout(0.4)(eyeLSTM_2)\n",
    "\n",
    "eegInput = Input(shape=(10,14),name='eegInput')\n",
    "eegLSTM = LSTM(25,return_sequences=True)(eegInput)\n",
    "eegDrop = Dropout(0.6)(eegLSTM)\n",
    "eegLSTM_2 = LSTM(30)(eegDrop)\n",
    "eegDrop_2 = Dropout(0.4)(eegLSTM_2)\n",
    "\n",
    "eyeOutput = Dense(1, activation='tanh', name='eyeOut')(eyeDrop_2)\n",
    "eegOutput = Dense(1, activation='tanh', name='eegOut')(eegDrop_2)\n",
    "\n",
    "concIn = concatenate([eyeOutput,eegOutput],axis=1)\n",
    "output = Dense(1,input_shape=(None,2),activation='sigmoid')(concIn)\n",
    "model = Model(inputs=[eyeInput,eegInput],outputs=[output])"
   ]
  },
  {
   "cell_type": "code",
   "execution_count": 51,
   "metadata": {},
   "outputs": [
    {
     "name": "stdout",
     "output_type": "stream",
     "text": [
      "__________________________________________________________________________________________________\n",
      "Layer (type)                    Output Shape         Param #     Connected to                     \n",
      "==================================================================================================\n",
      "eyeInput (InputLayer)           (None, 10, 1)        0                                            \n",
      "__________________________________________________________________________________________________\n",
      "eegInput (InputLayer)           (None, 10, 14)       0                                            \n",
      "__________________________________________________________________________________________________\n",
      "lstm_9 (LSTM)                   (None, 10, 15)       1020        eyeInput[0][0]                   \n",
      "__________________________________________________________________________________________________\n",
      "lstm_11 (LSTM)                  (None, 10, 25)       4000        eegInput[0][0]                   \n",
      "__________________________________________________________________________________________________\n",
      "dropout_9 (Dropout)             (None, 10, 15)       0           lstm_9[0][0]                     \n",
      "__________________________________________________________________________________________________\n",
      "dropout_11 (Dropout)            (None, 10, 25)       0           lstm_11[0][0]                    \n",
      "__________________________________________________________________________________________________\n",
      "lstm_10 (LSTM)                  (None, 30)           5520        dropout_9[0][0]                  \n",
      "__________________________________________________________________________________________________\n",
      "lstm_12 (LSTM)                  (None, 30)           6720        dropout_11[0][0]                 \n",
      "__________________________________________________________________________________________________\n",
      "dropout_10 (Dropout)            (None, 30)           0           lstm_10[0][0]                    \n",
      "__________________________________________________________________________________________________\n",
      "dropout_12 (Dropout)            (None, 30)           0           lstm_12[0][0]                    \n",
      "__________________________________________________________________________________________________\n",
      "eyeOut (Dense)                  (None, 1)            31          dropout_10[0][0]                 \n",
      "__________________________________________________________________________________________________\n",
      "eegOut (Dense)                  (None, 1)            31          dropout_12[0][0]                 \n",
      "__________________________________________________________________________________________________\n",
      "concatenate_3 (Concatenate)     (None, 2)            0           eyeOut[0][0]                     \n",
      "                                                                 eegOut[0][0]                     \n",
      "__________________________________________________________________________________________________\n",
      "dense_3 (Dense)                 (None, 1)            3           concatenate_3[0][0]              \n",
      "==================================================================================================\n",
      "Total params: 17,325\n",
      "Trainable params: 17,325\n",
      "Non-trainable params: 0\n",
      "__________________________________________________________________________________________________\n",
      "None\n"
     ]
    }
   ],
   "source": [
    "print(model.summary())"
   ]
  },
  {
   "cell_type": "code",
   "execution_count": 52,
   "metadata": {},
   "outputs": [
    {
     "name": "stdout",
     "output_type": "stream",
     "text": [
      "Train on 10728 samples, validate on 1192 samples\n",
      "Epoch 1/20\n",
      "10728/10728 [==============================] - 15s 1ms/step - loss: 0.2438 - acc: 0.9959 - val_loss: 0.1477 - val_acc: 1.0000\n",
      "Epoch 2/20\n",
      "10728/10728 [==============================] - 9s 866us/step - loss: 0.1104 - acc: 1.0000 - val_loss: 0.0820 - val_acc: 1.0000\n",
      "Epoch 3/20\n",
      "10728/10728 [==============================] - 9s 811us/step - loss: 0.0651 - acc: 1.0000 - val_loss: 0.0515 - val_acc: 1.0000\n",
      "Epoch 4/20\n",
      "10728/10728 [==============================] - 9s 848us/step - loss: 0.0425 - acc: 1.0000 - val_loss: 0.0350 - val_acc: 1.0000\n",
      "Epoch 5/20\n",
      "10728/10728 [==============================] - 9s 863us/step - loss: 0.0297 - acc: 1.0000 - val_loss: 0.0251 - val_acc: 1.0000\n",
      "Epoch 6/20\n",
      "10728/10728 [==============================] - 9s 830us/step - loss: 0.0217 - acc: 1.0000 - val_loss: 0.0186 - val_acc: 1.0000\n",
      "Epoch 7/20\n",
      "10728/10728 [==============================] - 9s 869us/step - loss: 0.0163 - acc: 1.0000 - val_loss: 0.0143 - val_acc: 1.0000\n",
      "Epoch 8/20\n",
      "10728/10728 [==============================] - 9s 796us/step - loss: 0.0126 - acc: 1.0000 - val_loss: 0.0111 - val_acc: 1.0000\n",
      "Epoch 9/20\n",
      "10728/10728 [==============================] - 9s 864us/step - loss: 0.0099 - acc: 1.0000 - val_loss: 0.0088 - val_acc: 1.0000\n",
      "Epoch 10/20\n",
      "10728/10728 [==============================] - 9s 792us/step - loss: 0.0079 - acc: 1.0000 - val_loss: 0.0071 - val_acc: 1.0000\n",
      "Epoch 11/20\n",
      "10728/10728 [==============================] - 9s 838us/step - loss: 0.0064 - acc: 1.0000 - val_loss: 0.0058 - val_acc: 1.0000\n",
      "Epoch 12/20\n",
      "10728/10728 [==============================] - 9s 838us/step - loss: 0.0052 - acc: 1.0000 - val_loss: 0.0047 - val_acc: 1.0000\n",
      "Epoch 13/20\n",
      "10728/10728 [==============================] - 9s 862us/step - loss: 0.0043 - acc: 1.0000 - val_loss: 0.0039 - val_acc: 1.0000\n",
      "Epoch 14/20\n",
      "10728/10728 [==============================] - 10s 894us/step - loss: 0.0035 - acc: 1.0000 - val_loss: 0.0032 - val_acc: 1.0000\n",
      "Epoch 15/20\n",
      "10728/10728 [==============================] - 9s 793us/step - loss: 0.0029 - acc: 1.0000 - val_loss: 0.0027 - val_acc: 1.0000\n",
      "Epoch 16/20\n",
      "10728/10728 [==============================] - 9s 881us/step - loss: 0.0024 - acc: 1.0000 - val_loss: 0.0022 - val_acc: 1.0000\n",
      "Epoch 17/20\n",
      "10728/10728 [==============================] - 9s 853us/step - loss: 0.0020 - acc: 1.0000 - val_loss: 0.0019 - val_acc: 1.0000\n",
      "Epoch 18/20\n",
      "10728/10728 [==============================] - 10s 892us/step - loss: 0.0017 - acc: 1.0000 - val_loss: 0.0016 - val_acc: 1.0000\n",
      "Epoch 19/20\n",
      "10728/10728 [==============================] - 9s 870us/step - loss: 0.0014 - acc: 1.0000 - val_loss: 0.0013 - val_acc: 1.0000\n",
      "Epoch 20/20\n",
      "10728/10728 [==============================] - 9s 847us/step - loss: 0.0012 - acc: 1.0000 - val_loss: 0.0011 - val_acc: 1.0000\n"
     ]
    }
   ],
   "source": [
    "model.compile(optimizer='adam', loss='binary_crossentropy',  metrics=['accuracy'])\n",
    "results = model.fit([eyX_train, eeX_train], [eyY_train], validation_data=([eyX_valid,eeX_valid],eyY_valid),\n",
    "          epochs=20, batch_size=32)"
   ]
  },
  {
   "cell_type": "code",
   "execution_count": 53,
   "metadata": {},
   "outputs": [
    {
     "data": {
      "text/plain": [
       "<matplotlib.legend.Legend at 0x251dc15e3c8>"
      ]
     },
     "execution_count": 53,
     "metadata": {},
     "output_type": "execute_result"
    },
    {
     "data": {
      "image/png": "[encoded data removed]",
      "text/plain": [
       "<Figure size 432x288 with 1 Axes>"
      ]
     },
     "metadata": {
      "needs_background": "light"
     },
     "output_type": "display_data"
    }
   ],
   "source": [
    "import matplotlib.pyplot as plt\n",
    "plt.plot(results.history[\"loss\"], label=\"loss\")\n",
    "plt.plot(results.history[\"val_loss\"], label=\"val_loss\")\n",
    "plt.xlabel(\"Epochs\")\n",
    "plt.ylabel(\"loss\")\n",
    "plt.legend()\n"
   ]
  },
  {
   "cell_type": "markdown",
   "metadata": {},
   "source": [
    "## 5.Predicting values from LSTM model 1 "
   ]
  },
  {
   "cell_type": "code",
   "execution_count": 54,
   "metadata": {},
   "outputs": [
    {
     "data": {
      "text/plain": [
       "array([[0.00110169],\n",
       "       [0.00110169],\n",
       "       [0.00110169],\n",
       "       ...,\n",
       "       [0.00110169],\n",
       "       [0.00110169],\n",
       "       [0.00110169]], dtype=float32)"
      ]
     },
     "execution_count": 54,
     "metadata": {},
     "output_type": "execute_result"
    }
   ],
   "source": [
    "Y_pred = model.predict([eyX_test, eeX_test])\n",
    "Y_pred"
   ]
  },
  {
   "cell_type": "markdown",
   "metadata": {},
   "source": [
    "## 6.Data preparation for LSTM model 2"
   ]
  },
  {
   "cell_type": "code",
   "execution_count": 55,
   "metadata": {},
   "outputs": [],
   "source": [
    "dataXeeg2 = [[X[i+j] for i in range (10)] for j in range(14900)]  #eeg data seperation for in batches of 10\n",
    "targetYeeg2 = [[labeledY[i] for i in range(10)]for i in range (14900)] \n",
    "dataXeye2 = [[Yarray[i] for i in range (10)] for j in range(14900)]  #eye data seperation for in batches of 10\n",
    "targetYeye2 = [[labeledY[i] for i in range(10)]for i in range (14900)]"
   ]
  },
  {
   "cell_type": "code",
   "execution_count": 56,
   "metadata": {},
   "outputs": [],
   "source": [
    "#convert all above data into array\n",
    "DataXeeg2 = np.array(dataXeeg2, dtype = float)\n",
    "TargetYeeg2 = np.array(targetYeeg2, dtype = int)\n",
    "DataXeye2 = np.array(dataXeye2, dtype=int)\n",
    "TargetYeye2 = np.array(targetYeye2, dtype=int)"
   ]
  },
  {
   "cell_type": "code",
   "execution_count": 57,
   "metadata": {},
   "outputs": [
    {
     "data": {
      "text/plain": [
       "((14900, 10, 1), (14900, 10, 14), (14900, 10), (14900, 10))"
      ]
     },
     "execution_count": 57,
     "metadata": {},
     "output_type": "execute_result"
    }
   ],
   "source": [
    "DataXeye2.shape,DataXeeg2.shape,TargetYeye2.shape,TargetYeeg2.shape"
   ]
  },
  {
   "cell_type": "code",
   "execution_count": 58,
   "metadata": {},
   "outputs": [
    {
     "name": "stdout",
     "output_type": "stream",
     "text": [
      "data format of train test and validaton data set of eeg data\n",
      "EYE status data X (10728, 10, 14) (2980, 10, 14) (1192, 10, 14)\n",
      "\n",
      "data format of train test and validaton data set of eye data\n",
      "EEG data X (10728, 10, 1) (2980, 10, 1) (1192, 10, 1)\n",
      "EEG data Y (10728, 10) (2980, 10) (1192, 10)\n"
     ]
    }
   ],
   "source": [
    "from sklearn.model_selection import train_test_split\n",
    "#split eye state to train and test\n",
    "eeX_train2, eeX_test2, eeY_train2,eeY_test2 = train_test_split(DataXeeg2, TargetYeeg2, test_size=0.20, shuffle=False)\n",
    "#split eeg to train and test\n",
    "eyX_train2, eyX_test2, eyY_train2,eyY_test2 = train_test_split(DataXeye2, TargetYeye2, test_size=0.20, shuffle=False)\n",
    "#split eye train to train and validate\n",
    "eeX_train2, eeX_valid2,eeY_train2, eeY_valid2 = train_test_split(eeX_train2, eeY_train2, test_size=0.10)\n",
    "#split eeg to train and validate\n",
    "eyX_train2, eyX_valid2,eyY_train2, eyY_valid2 = train_test_split(eyX_train2, eyY_train2, test_size=0.10)\n",
    "\n",
    "\n",
    "print(\"data format of train test and validaton data set of eeg data\")\n",
    "print(\"EYE status data X\",eeX_train2.shape, eeX_test2.shape, eeX_valid2.shape)\n",
    "print(\"\\ndata format of train test and validaton data set of eye data\")\n",
    "print(\"EEG data X\",eyX_train2.shape, eyX_test2.shape, eyX_valid2.shape)\n",
    "print(\"EEG data Y\",eyY_train2.shape, eyY_test2.shape, eyY_valid2.shape)\n",
    "\n"
   ]
  },
  {
   "cell_type": "markdown",
   "metadata": {},
   "source": [
    "## 7. Build algorothm and LSTM model 2 "
   ]
  },
  {
   "cell_type": "code",
   "execution_count": 59,
   "metadata": {},
   "outputs": [],
   "source": [
    "eyeInput = Input(shape=(10,1),name='eyeInput')\n",
    "eyeLSTM = LSTM(15,return_sequences=True)(eyeInput)\n",
    "eyeDrop = Dropout(0.8)(eyeLSTM)\n",
    "eyeLSTM_2 = LSTM(30)(eyeDrop)\n",
    "eyeDrop_2 = Dropout(0.4)(eyeLSTM_2)\n",
    "\n",
    "eegInput = Input(shape=(10,14),name='eegInput')\n",
    "eegLSTM = LSTM(25,return_sequences=True)(eegInput)\n",
    "eegDrop = Dropout(0.6)(eegLSTM)\n",
    "eegLSTM_2 = LSTM(30)(eegDrop)\n",
    "eegDrop_2 = Dropout(0.4)(eegLSTM_2)\n",
    "\n",
    "eyeOutput = Dense(1, activation='tanh', name='eyeOut')(eyeDrop_2)\n",
    "eegOutput = Dense(1, activation='tanh', name='eegOut')(eegDrop_2)\n",
    "\n",
    "concIn = concatenate([eyeOutput,eegOutput],axis=1)\n",
    "output = Dense(10,input_shape=(None,2),activation='sigmoid')(concIn)\n",
    "model2 = Model(inputs=[eyeInput,eegInput],outputs=[output])"
   ]
  },
  {
   "cell_type": "code",
   "execution_count": 61,
   "metadata": {},
   "outputs": [
    {
     "name": "stdout",
     "output_type": "stream",
     "text": [
      "Train on 10728 samples, validate on 1192 samples\n",
      "Epoch 1/20\n",
      "10728/10728 [==============================] - 16s 2ms/step - loss: 0.1682 - acc: 1.0000 - val_loss: 0.1130 - val_acc: 1.0000\n",
      "Epoch 2/20\n",
      "10728/10728 [==============================] - 9s 854us/step - loss: 0.0845 - acc: 1.0000 - val_loss: 0.0628 - val_acc: 1.0000\n",
      "Epoch 3/20\n",
      "10728/10728 [==============================] - 9s 817us/step - loss: 0.0499 - acc: 1.0000 - val_loss: 0.0395 - val_acc: 1.0000\n",
      "Epoch 4/20\n",
      "10728/10728 [==============================] - 9s 846us/step - loss: 0.0326 - acc: 1.0000 - val_loss: 0.0269 - val_acc: 1.0000\n",
      "Epoch 5/20\n",
      "10728/10728 [==============================] - 9s 829us/step - loss: 0.0228 - acc: 1.0000 - val_loss: 0.0193 - val_acc: 1.0000\n",
      "Epoch 6/20\n",
      "10728/10728 [==============================] - 9s 819us/step - loss: 0.0167 - acc: 1.0000 - val_loss: 0.0144 - val_acc: 1.0000\n",
      "Epoch 7/20\n",
      "10728/10728 [==============================] - 9s 852us/step - loss: 0.0126 - acc: 1.0000 - val_loss: 0.0110 - val_acc: 1.0000\n",
      "Epoch 8/20\n",
      "10728/10728 [==============================] - 9s 798us/step - loss: 0.0097 - acc: 1.0000 - val_loss: 0.0086 - val_acc: 1.0000\n",
      "Epoch 9/20\n",
      "10728/10728 [==============================] - 10s 896us/step - loss: 0.0077 - acc: 1.0000 - val_loss: 0.0068 - val_acc: 1.0000\n",
      "Epoch 10/20\n",
      "10728/10728 [==============================] - 9s 838us/step - loss: 0.0061 - acc: 1.0000 - val_loss: 0.0055 - val_acc: 1.0000\n",
      "Epoch 11/20\n",
      "10728/10728 [==============================] - 9s 862us/step - loss: 0.0049 - acc: 1.0000 - val_loss: 0.0044 - val_acc: 1.0000\n",
      "Epoch 12/20\n",
      "10728/10728 [==============================] - 9s 820us/step - loss: 0.0040 - acc: 1.0000 - val_loss: 0.0036 - val_acc: 1.0000\n",
      "Epoch 13/20\n",
      "10728/10728 [==============================] - 9s 816us/step - loss: 0.0033 - acc: 1.0000 - val_loss: 0.0030 - val_acc: 1.0000\n",
      "Epoch 14/20\n",
      "10728/10728 [==============================] - 9s 832us/step - loss: 0.0027 - acc: 1.0000 - val_loss: 0.0025 - val_acc: 1.0000\n",
      "Epoch 15/20\n",
      "10728/10728 [==============================] - 9s 848us/step - loss: 0.0023 - acc: 1.0000 - val_loss: 0.0021 - val_acc: 1.0000\n",
      "Epoch 16/20\n",
      "10728/10728 [==============================] - 10s 967us/step - loss: 0.0019 - acc: 1.0000 - val_loss: 0.0017 - val_acc: 1.0000\n",
      "Epoch 17/20\n",
      "10728/10728 [==============================] - 9s 834us/step - loss: 0.0016 - acc: 1.0000 - val_loss: 0.0014 - val_acc: 1.0000\n",
      "Epoch 18/20\n",
      "10728/10728 [==============================] - 10s 889us/step - loss: 0.0013 - acc: 1.0000 - val_loss: 0.0012 - val_acc: 1.0000\n",
      "Epoch 19/20\n",
      "10728/10728 [==============================] - 9s 811us/step - loss: 0.0011 - acc: 1.0000 - val_loss: 0.0010 - val_acc: 1.0000\n",
      "Epoch 20/20\n",
      "10728/10728 [==============================] - 9s 798us/step - loss: 9.3086e-04 - acc: 1.0000 - val_loss: 8.5264e-04 - val_acc: 1.0000\n"
     ]
    }
   ],
   "source": [
    "model2.compile(optimizer='adam', loss='binary_crossentropy',  metrics=['accuracy'])\n",
    "results = model2.fit([eyX_train2, eeX_train2], [eyY_train2], validation_data=([eyX_valid2,eeX_valid2],eyY_valid2),\n",
    "          epochs=20, batch_size=32)"
   ]
  },
  {
   "cell_type": "code",
   "execution_count": 62,
   "metadata": {},
   "outputs": [
    {
     "data": {
      "text/plain": [
       "<matplotlib.legend.Legend at 0x251f0b24898>"
      ]
     },
     "execution_count": 62,
     "metadata": {},
     "output_type": "execute_result"
    },
    {
     "data": {
      "image/png": "[encoded data removed]",
      "text/plain": [
       "<Figure size 576x576 with 1 Axes>"
      ]
     },
     "metadata": {
      "needs_background": "light"
     },
     "output_type": "display_data"
    }
   ],
   "source": [
    "import matplotlib.pyplot as plt\n",
    "plt.figure(figsize=(8, 8))\n",
    "plt.title(\"Learning curve\")\n",
    "plt.plot(results.history[\"loss\"], label=\"loss\")\n",
    "plt.plot(results.history[\"val_loss\"], label=\"val_loss\")\n",
    "plt.xlabel(\"Epochs\")\n",
    "plt.ylabel(\"loss\")\n",
    "plt.legend()"
   ]
  },
  {
   "cell_type": "markdown",
   "metadata": {},
   "source": [
    "##  8.Predicting values from LSTM model 2"
   ]
  },
  {
   "cell_type": "code",
   "execution_count": 63,
   "metadata": {},
   "outputs": [
    {
     "data": {
      "text/plain": [
       "array([[0.00077082, 0.00041817, 0.0011461 , ..., 0.00138363, 0.00074211,\n",
       "        0.0007936 ],\n",
       "       [0.00077082, 0.00041817, 0.0011461 , ..., 0.00138363, 0.00074211,\n",
       "        0.0007936 ],\n",
       "       [0.00077082, 0.00041817, 0.0011461 , ..., 0.00138363, 0.00074211,\n",
       "        0.0007936 ],\n",
       "       ...,\n",
       "       [0.00077082, 0.00041817, 0.0011461 , ..., 0.00138363, 0.00074211,\n",
       "        0.0007936 ],\n",
       "       [0.00077082, 0.00041817, 0.0011461 , ..., 0.00138363, 0.00074211,\n",
       "        0.0007936 ],\n",
       "       [0.00077082, 0.00041817, 0.0011461 , ..., 0.00138363, 0.00074211,\n",
       "        0.0007936 ]], dtype=float32)"
      ]
     },
     "execution_count": 63,
     "metadata": {},
     "output_type": "execute_result"
    }
   ],
   "source": [
    "y_pred2 = model2.predict([eyX_train2, eeX_train2])\n",
    "y_pred2\n"
   ]
  }
 ],
 "metadata": {
  "celltoolbar": "Raw Cell Format",
  "kernelspec": {
   "display_name": "Python 3",
   "language": "python",
   "name": "python3"
  },
  "language_info": {
   "codemirror_mode": {
    "name": "ipython",
    "version": 3
   },
   "file_extension": ".py",
   "mimetype": "text/x-python",
   "name": "python",
   "nbconvert_exporter": "python",
   "pygments_lexer": "ipython3",
   "version": "3.6.7"
  }
 },
 "nbformat": 4,
 "nbformat_minor": 2
}
